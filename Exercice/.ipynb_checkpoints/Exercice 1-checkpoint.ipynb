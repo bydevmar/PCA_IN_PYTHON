{
 "cells": [
  {
   "cell_type": "code",
   "execution_count": 27,
   "id": "1032e768-e652-473e-ad73-0f58586151a4",
   "metadata": {},
   "outputs": [],
   "source": [
    "#import \n",
    "import pandas as pd\n",
    "from sklearn.preprocessing import StandardScaler\n",
    "import numpy as np"
   ]
  },
  {
   "cell_type": "code",
   "execution_count": 18,
   "id": "8ef1866a-893d-4b88-8322-e5ff1d281188",
   "metadata": {},
   "outputs": [],
   "source": [
    "# Define the data\n",
    "data = {\n",
    "    'ville': ['Ajaccio', 'Brest', 'Dunkerque', 'Nancy', 'Nice', 'Toulouse'],\n",
    "    'P': [12.04, 17.18, 11.83, 6.23, 16.99, 3.87],\n",
    "    'TMAX': [23.7, 15.5, 13.1, 13.5, 21.1, 20.3],\n",
    "    'TMIN': [5.9, -1.8, 2.8, -2.4, 7.2, -0.9]\n",
    "}\n"
   ]
  },
  {
   "cell_type": "code",
   "execution_count": 19,
   "id": "956b8751-84f0-450e-a91f-23ce41828fb2",
   "metadata": {},
   "outputs": [
    {
     "name": "stdout",
     "output_type": "stream",
     "text": [
      "       ville      P  TMAX  TMIN\n",
      "0    Ajaccio  12.04  23.7   5.9\n",
      "1      Brest  17.18  15.5  -1.8\n",
      "2  Dunkerque  11.83  13.1   2.8\n",
      "3      Nancy   6.23  13.5  -2.4\n",
      "4       Nice  16.99  21.1   7.2\n",
      "5   Toulouse   3.87  20.3  -0.9\n"
     ]
    }
   ],
   "source": [
    "# Create the DataFrame\n",
    "df = pd.DataFrame(data)\n",
    "\n",
    "# Print the DataFrame\n",
    "print(df)"
   ]
  },
  {
   "cell_type": "markdown",
   "id": "2a66bb2f-0e16-45a4-8786-a107f78e9c77",
   "metadata": {},
   "source": [
    "## Calculez les moyennes et les écart-types de p, tmax et tmin."
   ]
  },
  {
   "cell_type": "code",
   "execution_count": 20,
   "id": "6129c6a7-6377-40ca-a890-1db5a1987871",
   "metadata": {},
   "outputs": [],
   "source": [
    "# Calculer les moyennes\n",
    "mean_P = round(df['P'].mean(), 2)\n",
    "mean_TMAX = round(df['TMAX'].mean(), 2)\n",
    "mean_TMIN = round(df['TMIN'].mean(), 2)"
   ]
  },
  {
   "cell_type": "code",
   "execution_count": 21,
   "id": "70b68493-3874-4b81-bfed-8aa686ef3360",
   "metadata": {},
   "outputs": [],
   "source": [
    "# Calculer les écarts-types avec le degré de liberté égal à 0\n",
    "std_P = round(df['P'].std(ddof=0), 2)\n",
    "std_TMAX = round(df['TMAX'].std(ddof=0), 2)\n",
    "std_TMIN = round(df['TMIN'].std(ddof=0), 2)"
   ]
  },
  {
   "cell_type": "code",
   "execution_count": 22,
   "id": "af4ee0a5-0cf6-4ad5-88db-7ad177b3ac97",
   "metadata": {},
   "outputs": [
    {
     "name": "stdout",
     "output_type": "stream",
     "text": [
      "Moyenne de P: 11.36, Écart-type de P: 4.98\n",
      "Moyenne de TMAX: 17.87, Écart-type de TMAX: 4.04\n",
      "Moyenne de TMIN: 1.8, Écart-type de TMIN: 3.76\n"
     ]
    }
   ],
   "source": [
    "# Afficher les moyennes et les écarts-types\n",
    "print(f\"Moyenne de P: {mean_P}, Écart-type de P: {std_P}\")\n",
    "print(f\"Moyenne de TMAX: {mean_TMAX}, Écart-type de TMAX: {std_TMAX}\")\n",
    "print(f\"Moyenne de TMIN: {mean_TMIN}, Écart-type de TMIN: {std_TMIN}\")\n"
   ]
  },
  {
   "cell_type": "code",
   "execution_count": 23,
   "id": "e1018bf9-1c56-4040-97ac-3d4857df0c11",
   "metadata": {},
   "outputs": [
    {
     "name": "stdout",
     "output_type": "stream",
     "text": [
      "      P  TMAX  TMIN\n",
      "0  0.14  1.44  1.09\n",
      "1  1.17 -0.59 -0.96\n",
      "2  0.10 -1.18  0.27\n",
      "3 -1.03 -1.08 -1.12\n",
      "4  1.13  0.80  1.44\n",
      "5 -1.50  0.60 -0.72\n"
     ]
    }
   ],
   "source": [
    "# Standardiser les données\n",
    "scaler = StandardScaler()\n",
    "X = scaler.fit_transform(df[['P', 'TMAX', 'TMIN']])\n",
    "\n",
    "# Convertir le résultat en DataFrame pour faciliter l'arrondi\n",
    "X = pd.DataFrame(X, columns=['P', 'TMAX', 'TMIN'])\n",
    "\n",
    "# Arrondir les données standardisées à 2 décimales\n",
    "X = X.round(2)\n",
    "\n",
    "# Afficher les données standardisées\n",
    "print(X)\n"
   ]
  },
  {
   "cell_type": "code",
   "execution_count": 25,
   "id": "2b97041a-1af5-48de-ac4e-229f40759ef5",
   "metadata": {},
   "outputs": [
    {
     "name": "stdout",
     "output_type": "stream",
     "text": [
      "         P  TMAX  TMIN\n",
      "P     1.00  0.09  0.49\n",
      "TMAX  0.09  1.00  0.62\n",
      "TMIN  0.49  0.62  1.00\n"
     ]
    }
   ],
   "source": [
    "# Calculer la matrice des corrélations\n",
    "correlation_matrix = X.corr().round(2)\n",
    "\n",
    "# Afficher la matrice des corrélations\n",
    "print(correlation_matrix)\n"
   ]
  },
  {
   "cell_type": "markdown",
   "id": "0f349a92-e74a-412a-afbf-367c45d72b70",
   "metadata": {},
   "source": [
    "## c. Déterminer, éventuellement en utilisant un logiciel,les matrices D et P telles que Σ = PDPTranspose, avec P matrice orthogonale et D matrice diagonale."
   ]
  },
  {
   "cell_type": "code",
   "execution_count": 31,
   "id": "d9549412-9aa8-4178-89ed-297f96fa75e3",
   "metadata": {},
   "outputs": [
    {
     "name": "stdout",
     "output_type": "stream",
     "text": [
      "Matrice diagonale D :\n",
      "[[2.2 0.  0. ]\n",
      " [0.  1.1 0. ]\n",
      " [0.  0.  0.3]]\n",
      "\n",
      "Matrice orthogonale P :\n",
      "[[-0.46 -0.79 -0.4 ]\n",
      " [-0.56  0.61 -0.56]\n",
      " [-0.69  0.03  0.73]]\n"
     ]
    }
   ],
   "source": [
    "# Sélection des colonnes à standardiser\n",
    "features = ['P', 'TMAX', 'TMIN']\n",
    "\n",
    "# Standardisation des données\n",
    "scaler = StandardScaler()\n",
    "X_scaled = scaler.fit_transform(df[features])\n",
    "\n",
    "# Calcul de la matrice des covariances\n",
    "cov_matrix = np.cov(X_scaled.T)\n",
    "\n",
    "# Calcul des valeurs propres et des vecteurs propres\n",
    "eigenvalues, eigenvectors = np.linalg.eig(cov_matrix)\n",
    "\n",
    "# Matrice diagonale D\n",
    "D = np.diag(eigenvalues)\n",
    "\n",
    "# Matrice orthogonale P\n",
    "P = eigenvectors\n",
    "\n",
    "# Affichage de D et P\n",
    "print(\"Matrice diagonale D :\")\n",
    "print(D.round(2))\n",
    "print(\"\\nMatrice orthogonale P :\")\n",
    "print(P.round(2))\n"
   ]
  },
  {
   "cell_type": "code",
   "execution_count": null,
   "id": "13309f97-a0c6-4aa9-aceb-5130fadc9e5a",
   "metadata": {},
   "outputs": [],
   "source": []
  },
  {
   "cell_type": "code",
   "execution_count": null,
   "id": "73b3a865-b318-44ea-ad77-016cf7799aa9",
   "metadata": {},
   "outputs": [],
   "source": []
  },
  {
   "cell_type": "code",
   "execution_count": null,
   "id": "da127a39-b453-435c-bf56-93ae984b9c0c",
   "metadata": {},
   "outputs": [],
   "source": [
    "\n",
    "\n",
    "\n",
    "\n",
    "\n"
   ]
  }
 ],
 "metadata": {
  "kernelspec": {
   "display_name": "Python 3 (ipykernel)",
   "language": "python",
   "name": "python3"
  },
  "language_info": {
   "codemirror_mode": {
    "name": "ipython",
    "version": 3
   },
   "file_extension": ".py",
   "mimetype": "text/x-python",
   "name": "python",
   "nbconvert_exporter": "python",
   "pygments_lexer": "ipython3",
   "version": "3.12.2"
  }
 },
 "nbformat": 4,
 "nbformat_minor": 5
}
